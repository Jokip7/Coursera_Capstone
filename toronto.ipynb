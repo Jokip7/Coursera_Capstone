{
 "cells": [
  {
   "cell_type": "markdown",
   "id": "64aa5fc3-575e-496f-9e46-5341c13c920a",
   "metadata": {},
   "source": [
    "# Segmenting and Clustering Neighborhoods in Toronto\n",
    "The goal of this notebook is to segment and cluster neighborhoods in Toronto while gathering their postal code and borough."
   ]
  },
  {
   "cell_type": "code",
   "execution_count": 1,
   "id": "ff40ea6b-4f59-4032-8d86-b1ad5e9841e8",
   "metadata": {},
   "outputs": [
    {
     "name": "stdout",
     "output_type": "stream",
     "text": [
      "Requirement already satisfied: bs4 in /home/chris/miniconda3/lib/python3.8/site-packages (0.0.1)\n",
      "Requirement already satisfied: beautifulsoup4 in /home/chris/miniconda3/lib/python3.8/site-packages (from bs4) (4.9.3)\n",
      "Requirement already satisfied: soupsieve>1.2; python_version >= \"3.0\" in /home/chris/miniconda3/lib/python3.8/site-packages (from beautifulsoup4->bs4) (2.2.1)\n"
     ]
    }
   ],
   "source": [
    "!pip install bs4"
   ]
  },
  {
   "cell_type": "code",
   "execution_count": 2,
   "id": "db63cad1-5eea-4db5-896d-60beb7be6132",
   "metadata": {},
   "outputs": [],
   "source": [
    "from bs4 import BeautifulSoup\n",
    "import requests\n",
    "import pandas as pd\n",
    "import numpy as np"
   ]
  },
  {
   "cell_type": "markdown",
   "id": "aa22866c-ba34-4826-8a3a-badf06ae6f48",
   "metadata": {},
   "source": [
    "## Building the dataframe\n",
    "\n",
    "I am using an older version of the Wikipedia page as it uses a basic HTML table - which is more easily parsed to a dataframe than the grid used in newer versions of the page. I am also renaming the column names."
   ]
  },
  {
   "cell_type": "code",
   "execution_count": 3,
   "id": "291dbedd-db2c-44cc-b35a-47cce391a9dd",
   "metadata": {},
   "outputs": [],
   "source": [
    "req = requests.get(\"https://en.wikipedia.org/w/index.php?title=List_of_postal_codes_of_Canada:_M&oldid=1012118802\") \n",
    "\n",
    "soup = BeautifulSoup(req.content,'html.parser') \n",
    "\n",
    "table = soup.find_all('table')[0]\n",
    "\n",
    "df = pd.read_html(str(table))\n",
    "\n",
    "df = df[0]\n",
    "\n",
    "df.columns = ['PostalCode', 'Borough', 'Neighborhood']\n"
   ]
  },
  {
   "cell_type": "markdown",
   "id": "2052ef8c-df74-4281-9e78-dd79399ab779",
   "metadata": {},
   "source": [
    "Cleaning the data. First I replace all occurances of \"Not assigned\" with \"NaN\". If a cell has a borough but no neighborhood, then the neighborhood will be the same as the borough. Afterwards, every row that has \"NaN\" in it is dropped. I also reset the index to fill up any gaps."
   ]
  },
  {
   "cell_type": "code",
   "execution_count": 4,
   "id": "2fd0f909-69fd-42aa-a1a3-3095d47a6c66",
   "metadata": {},
   "outputs": [],
   "source": [
    "df.replace(\"Not assigned\", np.nan, inplace=True)\n",
    "df.Neighborhood.fillna(df.Borough, inplace=True)\n",
    "df.dropna(inplace=True)\n",
    "df.reset_index(drop=True, inplace=True)"
   ]
  },
  {
   "cell_type": "code",
   "execution_count": 5,
   "id": "812a81d5-c981-40bd-951c-4909acaa4755",
   "metadata": {},
   "outputs": [
    {
     "data": {
      "text/plain": [
       "(103, 3)"
      ]
     },
     "execution_count": 5,
     "metadata": {},
     "output_type": "execute_result"
    }
   ],
   "source": [
    "df.shape"
   ]
  }
 ],
 "metadata": {
  "kernelspec": {
   "display_name": "Python 3",
   "language": "python",
   "name": "python3"
  },
  "language_info": {
   "codemirror_mode": {
    "name": "ipython",
    "version": 3
   },
   "file_extension": ".py",
   "mimetype": "text/x-python",
   "name": "python",
   "nbconvert_exporter": "python",
   "pygments_lexer": "ipython3",
   "version": "3.8.5"
  }
 },
 "nbformat": 4,
 "nbformat_minor": 5
}
