{
 "cells": [
  {
   "cell_type": "markdown",
   "id": "9213b3e5-18f7-4376-a7c0-6623e2505b06",
   "metadata": {},
   "source": [
    "# Capstone Project Notebook\n",
    "\n",
    "This notebook will be mainly used for the IBM datascience Coursera Applied Datascience capstone project."
   ]
  },
  {
   "cell_type": "code",
   "execution_count": 2,
   "id": "939e8aff-abe9-48ce-ab74-30765f1094e9",
   "metadata": {},
   "outputs": [],
   "source": [
    "import pandas as pd\n",
    "import numpy as np"
   ]
  },
  {
   "cell_type": "code",
   "execution_count": 4,
   "id": "6fc1a79a-0c93-4290-b132-0f91a54ff0af",
   "metadata": {},
   "outputs": [
    {
     "name": "stdout",
     "output_type": "stream",
     "text": [
      "Hello Capstone Project Course!\n"
     ]
    }
   ],
   "source": [
    "print(\"Hello Capstone Project Course!\")"
   ]
  },
  {
   "cell_type": "code",
   "execution_count": null,
   "id": "369cc036-f7fd-4818-b61a-4aeb30b8859e",
   "metadata": {},
   "outputs": [],
   "source": []
  }
 ],
 "metadata": {
  "kernelspec": {
   "display_name": "Python 3",
   "language": "python",
   "name": "python3"
  },
  "language_info": {
   "codemirror_mode": {
    "name": "ipython",
    "version": 3
   },
   "file_extension": ".py",
   "mimetype": "text/x-python",
   "name": "python",
   "nbconvert_exporter": "python",
   "pygments_lexer": "ipython3",
   "version": "3.8.5"
  }
 },
 "nbformat": 4,
 "nbformat_minor": 5
}
